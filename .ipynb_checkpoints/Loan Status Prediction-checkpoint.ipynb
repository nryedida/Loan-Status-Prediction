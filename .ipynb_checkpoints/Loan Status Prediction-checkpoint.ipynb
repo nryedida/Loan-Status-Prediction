{
 "cells": [
  {
   "cell_type": "markdown",
   "metadata": {},
   "source": [
    "# Loan Prediction\n",
    "### In this notebook we will analyze the data set from Loan prediction III problem from Analytics Vidhya and build models to predict the loan status\n",
    "\n",
    "\n",
    "#### About Dataset\n",
    "Dream Housing Finance company deals in all home loans. They have presence across all urban, semi urban and rural areas. Customer first apply for home loan after that company validates the customer eligibility for loan.\n",
    "\n",
    "\n",
    "#### Problem\n",
    "Company wants to automate the loan eligibility process (real time) based on customer detail provided while filling online application form. These details are Gender, Marital Status, Education, Number of Dependents, Income, Loan Amount, Credit History and others. To automate this process, they have given a problem to identify the customers segments, those are eligible for loan amount so that they can specifically target these customers. Here they have provided a partial data set\n",
    "\n",
    "\n",
    "\n",
    "## Load the data and look at summary statistics"
   ]
  },
  {
   "cell_type": "code",
   "execution_count": 1,
   "metadata": {},
   "outputs": [
    {
     "name": "stderr",
     "output_type": "stream",
     "text": [
      "c:\\Anaconda3\\lib\\site-packages\\sklearn\\cross_validation.py:41: DeprecationWarning: This module was deprecated in version 0.18 in favor of the model_selection module into which all the refactored classes and functions are moved. Also note that the interface of the new CV iterators are different from that of this module. This module will be removed in 0.20.\n",
      "  \"This module will be removed in 0.20.\", DeprecationWarning)\n"
     ]
    }
   ],
   "source": [
    "\n",
    "import pandas as pd\n",
    "import numpy as np\n",
    "import pprint as pp\n",
    "import matplotlib.pyplot as plt\n",
    "import seaborn as sns\n",
    "from sklearn.model_selection import train_test_split\n",
    "import statsmodels.api as sm\n",
    "from sklearn.linear_model import LogisticRegression\n",
    "from sklearn.cross_validation import KFold\n",
    "from sklearn.ensemble import RandomForestClassifier\n",
    "from sklearn import metrics\n",
    "from sklearn.metrics import confusion_matrix\n",
    "from sklearn.metrics import classification_report\n",
    "from sklearn.metrics import roc_auc_score\n",
    "from sklearn.metrics import roc_curve\n",
    "import warnings\n",
    "warnings.filterwarnings(\"ignore\", category=DeprecationWarning)"
   ]
  },
  {
   "cell_type": "code",
   "execution_count": 2,
   "metadata": {},
   "outputs": [],
   "source": [
    "loan = pd.read_csv(\"loan_predict_train.csv\")"
   ]
  },
  {
   "cell_type": "code",
   "execution_count": 3,
   "metadata": {},
   "outputs": [
    {
     "data": {
      "text/plain": [
       "(614, 13)"
      ]
     },
     "execution_count": 3,
     "metadata": {},
     "output_type": "execute_result"
    }
   ],
   "source": [
    "loan.shape"
   ]
  },
  {
   "cell_type": "code",
   "execution_count": 4,
   "metadata": {},
   "outputs": [
    {
     "name": "stdout",
     "output_type": "stream",
     "text": [
      "<class 'pandas.core.frame.DataFrame'>\n",
      "RangeIndex: 614 entries, 0 to 613\n",
      "Data columns (total 13 columns):\n",
      "Loan_ID              614 non-null object\n",
      "Gender               601 non-null object\n",
      "Married              611 non-null object\n",
      "Dependents           599 non-null object\n",
      "Education            614 non-null object\n",
      "Self_Employed        582 non-null object\n",
      "ApplicantIncome      614 non-null int64\n",
      "CoapplicantIncome    614 non-null float64\n",
      "LoanAmount           592 non-null float64\n",
      "Loan_Amount_Term     600 non-null float64\n",
      "Credit_History       564 non-null float64\n",
      "Property_Area        614 non-null object\n",
      "Loan_Status          614 non-null object\n",
      "dtypes: float64(4), int64(1), object(8)\n",
      "memory usage: 62.4+ KB\n"
     ]
    }
   ],
   "source": [
    "loan.info()"
   ]
  },
  {
   "cell_type": "code",
   "execution_count": 5,
   "metadata": {},
   "outputs": [
    {
     "data": {
      "text/html": [
       "<div>\n",
       "<style scoped>\n",
       "    .dataframe tbody tr th:only-of-type {\n",
       "        vertical-align: middle;\n",
       "    }\n",
       "\n",
       "    .dataframe tbody tr th {\n",
       "        vertical-align: top;\n",
       "    }\n",
       "\n",
       "    .dataframe thead th {\n",
       "        text-align: right;\n",
       "    }\n",
       "</style>\n",
       "<table border=\"1\" class=\"dataframe\">\n",
       "  <thead>\n",
       "    <tr style=\"text-align: right;\">\n",
       "      <th></th>\n",
       "      <th>ApplicantIncome</th>\n",
       "      <th>CoapplicantIncome</th>\n",
       "      <th>LoanAmount</th>\n",
       "      <th>Loan_Amount_Term</th>\n",
       "      <th>Credit_History</th>\n",
       "    </tr>\n",
       "  </thead>\n",
       "  <tbody>\n",
       "    <tr>\n",
       "      <th>count</th>\n",
       "      <td>614.000000</td>\n",
       "      <td>614.000000</td>\n",
       "      <td>592.000000</td>\n",
       "      <td>600.00000</td>\n",
       "      <td>564.000000</td>\n",
       "    </tr>\n",
       "    <tr>\n",
       "      <th>mean</th>\n",
       "      <td>5403.459283</td>\n",
       "      <td>1621.245798</td>\n",
       "      <td>146.412162</td>\n",
       "      <td>342.00000</td>\n",
       "      <td>0.842199</td>\n",
       "    </tr>\n",
       "    <tr>\n",
       "      <th>std</th>\n",
       "      <td>6109.041673</td>\n",
       "      <td>2926.248369</td>\n",
       "      <td>85.587325</td>\n",
       "      <td>65.12041</td>\n",
       "      <td>0.364878</td>\n",
       "    </tr>\n",
       "    <tr>\n",
       "      <th>min</th>\n",
       "      <td>150.000000</td>\n",
       "      <td>0.000000</td>\n",
       "      <td>9.000000</td>\n",
       "      <td>12.00000</td>\n",
       "      <td>0.000000</td>\n",
       "    </tr>\n",
       "    <tr>\n",
       "      <th>25%</th>\n",
       "      <td>2877.500000</td>\n",
       "      <td>0.000000</td>\n",
       "      <td>100.000000</td>\n",
       "      <td>360.00000</td>\n",
       "      <td>1.000000</td>\n",
       "    </tr>\n",
       "    <tr>\n",
       "      <th>50%</th>\n",
       "      <td>3812.500000</td>\n",
       "      <td>1188.500000</td>\n",
       "      <td>128.000000</td>\n",
       "      <td>360.00000</td>\n",
       "      <td>1.000000</td>\n",
       "    </tr>\n",
       "    <tr>\n",
       "      <th>75%</th>\n",
       "      <td>5795.000000</td>\n",
       "      <td>2297.250000</td>\n",
       "      <td>168.000000</td>\n",
       "      <td>360.00000</td>\n",
       "      <td>1.000000</td>\n",
       "    </tr>\n",
       "    <tr>\n",
       "      <th>max</th>\n",
       "      <td>81000.000000</td>\n",
       "      <td>41667.000000</td>\n",
       "      <td>700.000000</td>\n",
       "      <td>480.00000</td>\n",
       "      <td>1.000000</td>\n",
       "    </tr>\n",
       "  </tbody>\n",
       "</table>\n",
       "</div>"
      ],
      "text/plain": [
       "       ApplicantIncome  CoapplicantIncome  LoanAmount  Loan_Amount_Term  \\\n",
       "count       614.000000         614.000000  592.000000         600.00000   \n",
       "mean       5403.459283        1621.245798  146.412162         342.00000   \n",
       "std        6109.041673        2926.248369   85.587325          65.12041   \n",
       "min         150.000000           0.000000    9.000000          12.00000   \n",
       "25%        2877.500000           0.000000  100.000000         360.00000   \n",
       "50%        3812.500000        1188.500000  128.000000         360.00000   \n",
       "75%        5795.000000        2297.250000  168.000000         360.00000   \n",
       "max       81000.000000       41667.000000  700.000000         480.00000   \n",
       "\n",
       "       Credit_History  \n",
       "count      564.000000  \n",
       "mean         0.842199  \n",
       "std          0.364878  \n",
       "min          0.000000  \n",
       "25%          1.000000  \n",
       "50%          1.000000  \n",
       "75%          1.000000  \n",
       "max          1.000000  "
      ]
     },
     "execution_count": 5,
     "metadata": {},
     "output_type": "execute_result"
    }
   ],
   "source": [
    "loan.describe()"
   ]
  },
  {
   "cell_type": "code",
   "execution_count": 6,
   "metadata": {},
   "outputs": [
    {
     "data": {
      "text/plain": [
       "Loan_ID               0\n",
       "Gender               13\n",
       "Married               3\n",
       "Dependents           15\n",
       "Education             0\n",
       "Self_Employed        32\n",
       "ApplicantIncome       0\n",
       "CoapplicantIncome     0\n",
       "LoanAmount           22\n",
       "Loan_Amount_Term     14\n",
       "Credit_History       50\n",
       "Property_Area         0\n",
       "Loan_Status           0\n",
       "dtype: int64"
      ]
     },
     "execution_count": 6,
     "metadata": {},
     "output_type": "execute_result"
    }
   ],
   "source": [
    "loan.isnull().sum()"
   ]
  },
  {
   "cell_type": "markdown",
   "metadata": {},
   "source": [
    "#### Target Variable is Loan_Status - let's see its distribution"
   ]
  },
  {
   "cell_type": "code",
   "execution_count": 7,
   "metadata": {},
   "outputs": [
    {
     "data": {
      "text/plain": [
       "Y    422\n",
       "N    192\n",
       "Name: Loan_Status, dtype: int64"
      ]
     },
     "execution_count": 7,
     "metadata": {},
     "output_type": "execute_result"
    }
   ],
   "source": [
    "loan.Loan_Status.value_counts()"
   ]
  },
  {
   "cell_type": "markdown",
   "metadata": {},
   "source": [
    "#### The data is moderately unbalanced - minority class is about 31%."
   ]
  },
  {
   "cell_type": "markdown",
   "metadata": {},
   "source": [
    "## Exploratory Analysis\n",
    "#### Is there any trend in loan status based on LoanAmount or Income of applicant/coapplicant ?"
   ]
  },
  {
   "cell_type": "code",
   "execution_count": 8,
   "metadata": {},
   "outputs": [
    {
     "data": {
      "image/png": "[encoded data removed]",
      "text/plain": [
       "<Figure size 576x576 with 1 Axes>"
      ]
     },
     "metadata": {
      "needs_background": "light"
     },
     "output_type": "display_data"
    }
   ],
   "source": [
    "fig, ax = plt.subplots(figsize=(8, 8))\n",
    "plt.style.use('seaborn-whitegrid')\n",
    "sns.set(palette=\"muted\")\n",
    "ax.set_ylim(0,500)\n",
    "ax = sns.boxplot(x=\"Loan_Status\", y=\"LoanAmount\", data=loan)"
   ]
  },
  {
   "cell_type": "code",
   "execution_count": 9,
   "metadata": {},
   "outputs": [
    {
     "data": {
      "image/png": "[encoded data removed]",
      "text/plain": [
       "<Figure size 576x720 with 1 Axes>"
      ]
     },
     "metadata": {},
     "output_type": "display_data"
    }
   ],
   "source": [
    "fig, ax = plt.subplots(figsize=(8, 10))\n",
    "ax.set_ylim(0,20000)\n",
    "ax = sns.boxplot(x=\"Loan_Status\", y=\"ApplicantIncome\", data=loan)"
   ]
  },
  {
   "cell_type": "code",
   "execution_count": 10,
   "metadata": {},
   "outputs": [
    {
     "data": {
      "image/png": "[encoded data removed]",
      "text/plain": [
       "<Figure size 576x720 with 1 Axes>"
      ]
     },
     "metadata": {},
     "output_type": "display_data"
    }
   ],
   "source": [
    "fig, ax = plt.subplots(figsize=(8, 10))\n",
    "ax.set_ylim(0,20000)\n",
    "ax = sns.boxplot(x=\"Loan_Status\", y=\"CoapplicantIncome\", data=loan)"
   ]
  },
  {
   "cell_type": "markdown",
   "metadata": {},
   "source": [
    "- ###### We can see from above plot that mean coapplicant income is higher for approved loans"
   ]
  },
  {
   "cell_type": "markdown",
   "metadata": {},
   "source": [
    "### How is approval rate among various categories ?"
   ]
  },
  {
   "cell_type": "code",
   "execution_count": 11,
   "metadata": {},
   "outputs": [
    {
     "data": {
      "image/png": "[encoded data removed]",
      "text/plain": [
       "<Figure size 1080x1440 with 6 Axes>"
      ]
     },
     "metadata": {},
     "output_type": "display_data"
    }
   ],
   "source": [
    "plt.style.use('seaborn-whitegrid')\n",
    "fig = plt.figure(figsize=(15,20))\n",
    "fig.subplots_adjust(left=None, bottom=None, right=None, top=None, wspace=0.5, hspace=0.3)\n",
    "rows = 3\n",
    "cols = 3\n",
    "categorical_col = ['Gender', 'Married', 'Education', 'Property_Area', 'Dependents', 'Self_Employed']\n",
    "for i, column in enumerate(categorical_col):\n",
    "    ax = fig.add_subplot(rows, cols, i + 1)\n",
    "    ax.set(xticks=[])\n",
    "    ax = pd.crosstab(loan[categorical_col[i]], loan.Loan_Status, normalize='index').plot.bar(ax=ax)"
   ]
  },
  {
   "cell_type": "markdown",
   "metadata": {},
   "source": [
    "- ###### We can see that SemiUrban properties have relatively higher rate of approval"
   ]
  },
  {
   "cell_type": "markdown",
   "metadata": {},
   "source": [
    "### Is there any gender bias?"
   ]
  },
  {
   "cell_type": "code",
   "execution_count": 12,
   "metadata": {},
   "outputs": [
    {
     "data": {
      "image/png": "[encoded data removed]",
      "text/plain": [
       "<Figure size 720x720 with 1 Axes>"
      ]
     },
     "metadata": {},
     "output_type": "display_data"
    }
   ],
   "source": [
    "fig = plt.figure(figsize=(10,10))\n",
    "ax = fig.add_subplot(111)\n",
    "pd.crosstab([loan.Married, loan.Gender, loan.Dependents], loan.Loan_Status, normalize='index').plot.barh(ax=ax);"
   ]
  },
  {
   "cell_type": "markdown",
   "metadata": {},
   "source": [
    "- It can be noted from above plot that Unmarried Females with 3+ dependents have very high rate of rejection - let's dive into the details - from the data it doesn't show any gender bias as there are only three samples out of which only one has good credit history"
   ]
  },
  {
   "cell_type": "code",
   "execution_count": 13,
   "metadata": {},
   "outputs": [
    {
     "data": {
      "text/html": [
       "<div>\n",
       "<style scoped>\n",
       "    .dataframe tbody tr th:only-of-type {\n",
       "        vertical-align: middle;\n",
       "    }\n",
       "\n",
       "    .dataframe tbody tr th {\n",
       "        vertical-align: top;\n",
       "    }\n",
       "\n",
       "    .dataframe thead th {\n",
       "        text-align: right;\n",
       "    }\n",
       "</style>\n",
       "<table border=\"1\" class=\"dataframe\">\n",
       "  <thead>\n",
       "    <tr style=\"text-align: right;\">\n",
       "      <th></th>\n",
       "      <th>Loan_ID</th>\n",
       "      <th>Gender</th>\n",
       "      <th>Married</th>\n",
       "      <th>Dependents</th>\n",
       "      <th>Education</th>\n",
       "      <th>Self_Employed</th>\n",
       "      <th>ApplicantIncome</th>\n",
       "      <th>CoapplicantIncome</th>\n",
       "      <th>LoanAmount</th>\n",
       "      <th>Loan_Amount_Term</th>\n",
       "      <th>Credit_History</th>\n",
       "      <th>Property_Area</th>\n",
       "      <th>Loan_Status</th>\n",
       "    </tr>\n",
       "  </thead>\n",
       "  <tbody>\n",
       "    <tr>\n",
       "      <th>255</th>\n",
       "      <td>LP001846</td>\n",
       "      <td>Female</td>\n",
       "      <td>No</td>\n",
       "      <td>3+</td>\n",
       "      <td>Graduate</td>\n",
       "      <td>No</td>\n",
       "      <td>3083</td>\n",
       "      <td>0.0</td>\n",
       "      <td>255.0</td>\n",
       "      <td>360.0</td>\n",
       "      <td>1.0</td>\n",
       "      <td>Rural</td>\n",
       "      <td>Y</td>\n",
       "    </tr>\n",
       "    <tr>\n",
       "      <th>338</th>\n",
       "      <td>LP002113</td>\n",
       "      <td>Female</td>\n",
       "      <td>No</td>\n",
       "      <td>3+</td>\n",
       "      <td>Not Graduate</td>\n",
       "      <td>No</td>\n",
       "      <td>1830</td>\n",
       "      <td>0.0</td>\n",
       "      <td>NaN</td>\n",
       "      <td>360.0</td>\n",
       "      <td>0.0</td>\n",
       "      <td>Urban</td>\n",
       "      <td>N</td>\n",
       "    </tr>\n",
       "    <tr>\n",
       "      <th>600</th>\n",
       "      <td>LP002949</td>\n",
       "      <td>Female</td>\n",
       "      <td>No</td>\n",
       "      <td>3+</td>\n",
       "      <td>Graduate</td>\n",
       "      <td>NaN</td>\n",
       "      <td>416</td>\n",
       "      <td>41667.0</td>\n",
       "      <td>350.0</td>\n",
       "      <td>180.0</td>\n",
       "      <td>NaN</td>\n",
       "      <td>Urban</td>\n",
       "      <td>N</td>\n",
       "    </tr>\n",
       "  </tbody>\n",
       "</table>\n",
       "</div>"
      ],
      "text/plain": [
       "      Loan_ID  Gender Married Dependents     Education Self_Employed  \\\n",
       "255  LP001846  Female      No         3+      Graduate            No   \n",
       "338  LP002113  Female      No         3+  Not Graduate            No   \n",
       "600  LP002949  Female      No         3+      Graduate           NaN   \n",
       "\n",
       "     ApplicantIncome  CoapplicantIncome  LoanAmount  Loan_Amount_Term  \\\n",
       "255             3083                0.0       255.0             360.0   \n",
       "338             1830                0.0         NaN             360.0   \n",
       "600              416            41667.0       350.0             180.0   \n",
       "\n",
       "     Credit_History Property_Area Loan_Status  \n",
       "255             1.0         Rural           Y  \n",
       "338             0.0         Urban           N  \n",
       "600             NaN         Urban           N  "
      ]
     },
     "execution_count": 13,
     "metadata": {},
     "output_type": "execute_result"
    }
   ],
   "source": [
    "loan.loc[(loan.Gender == 'Female') & (loan.Married == 'No') & (loan.Dependents == '3+')]"
   ]
  },
  {
   "cell_type": "markdown",
   "metadata": {},
   "source": [
    "## Data Preprocessing"
   ]
  },
  {
   "cell_type": "markdown",
   "metadata": {},
   "source": [
    "### Missing data\n",
    "- Out of the 13 columns we will exclude Loan_Status and Loan_ID and arrive at 11 predictor variblles. Out of these seven variables have varying degrees of missing values. We need to impute these appropriately."
   ]
  },
  {
   "cell_type": "code",
   "execution_count": 14,
   "metadata": {},
   "outputs": [],
   "source": [
    "def do_preprocess(data):\n",
    "    table = data.pivot_table(values='LoanAmount', index='Self_Employed' ,columns='Education', aggfunc=np.median)\n",
    "    def fage(x):\n",
    "        return table.loc[x['Self_Employed'],x['Education']]\n",
    "    # Replace missing values\n",
    "    data['Self_Employed'].fillna('No', inplace=True)\n",
    "    data['LoanAmount'].fillna(data[data['LoanAmount'].isnull()].apply(fage, axis=1), inplace=True)\n",
    "    data['Gender'].fillna(data['Gender'].mode()[0], inplace=True)\n",
    "    data['Married'].fillna(data['Married'].mode()[0], inplace=True)\n",
    "    data['Dependents'].fillna(data['Dependents'].mode()[0], inplace=True)\n",
    "    data['Loan_Amount_Term'].fillna(data['Loan_Amount_Term'].mode()[0], inplace=True)\n",
    "    data['Credit_History'].fillna(data['Credit_History'].mode()[0], inplace=True)\n",
    "\n",
    "\n",
    "do_preprocess(loan)"
   ]
  },
  {
   "cell_type": "markdown",
   "metadata": {},
   "source": [
    "### Feature Engineering\n",
    "- Performance of a model will be greatly influenced by carefully crafted features.\n",
    "- It is reasonable to assume a loan application is weighed by the ability to repay it. This ability will depend on the applicant's income. Hence we can add a feature of the ratio of there two terms.\n",
    "- We can come up with the below features\n",
    "    - ApplicantIncomeByLoanAmount\n",
    "    - IncomeByLoanAmount - here Income is the total income of applicant and co-applicant"
   ]
  },
  {
   "cell_type": "code",
   "execution_count": 15,
   "metadata": {},
   "outputs": [],
   "source": [
    "def add_new_features(data):\n",
    "    data['TotalIncome'] = data['ApplicantIncome'] + data['CoapplicantIncome']\n",
    "    data['IncomeByLoanAmount'] = data['TotalIncome'] / data['LoanAmount']\n",
    "    data['AplIncomeByLoanAmount'] = data['ApplicantIncome'] / data['LoanAmount']\n",
    "   \n",
    "add_new_features(loan)"
   ]
  },
  {
   "cell_type": "markdown",
   "metadata": {},
   "source": [
    "### Encoding Predictors\n",
    "- As the machine learning algorithms internally operate on matrices of numerical data we need to encode our categorical variables into numberic form.\n",
    "- The most widely used encoding is the OneHotEncoding and pandas readily provides this functionality"
   ]
  },
  {
   "cell_type": "code",
   "execution_count": 16,
   "metadata": {},
   "outputs": [],
   "source": [
    "def doOneHotEncoding(data, cols):\n",
    "    for var in cols:\n",
    "        one_hot = pd.get_dummies(data[var], prefix = var)\n",
    "        # Drop column B as it is now encoded\n",
    "        data = data.drop(var,axis = 1)\n",
    "        # Join the encoded data\n",
    "        data = data.join(one_hot)\n",
    "    return data\n",
    "\n",
    "loan = doOneHotEncoding(loan, ['Gender', 'Married','Dependents','Education','Self_Employed','Property_Area'])\n",
    "loan.Loan_Status = loan.Loan_Status.map(dict(Y=1,N=0))"
   ]
  },
  {
   "cell_type": "code",
   "execution_count": 17,
   "metadata": {},
   "outputs": [
    {
     "data": {
      "text/plain": [
       "1    422\n",
       "0    192\n",
       "Name: Loan_Status, dtype: int64"
      ]
     },
     "execution_count": 17,
     "metadata": {},
     "output_type": "execute_result"
    }
   ],
   "source": [
    "loan.Loan_Status.value_counts()"
   ]
  },
  {
   "cell_type": "markdown",
   "metadata": {},
   "source": [
    "## Building Model\n",
    "#### We will begin with building a linear model because of its interpretability. Will use statsmodels api to fit the data as it gives detailed statistics on the fitted model. Let's do Logistic Regression on this data."
   ]
  },
  {
   "cell_type": "code",
   "execution_count": 18,
   "metadata": {},
   "outputs": [
    {
     "name": "stdout",
     "output_type": "stream",
     "text": [
      "Optimization terminated successfully.    (Exit mode 0)\n",
      "            Current function value: 0.4547675334738926\n",
      "            Iterations: 66\n",
      "            Function evaluations: 93\n",
      "            Gradient evaluations: 66\n"
     ]
    },
    {
     "name": "stderr",
     "output_type": "stream",
     "text": [
      "c:\\Anaconda3\\lib\\site-packages\\statsmodels\\discrete\\discrete_model.py:1674: RuntimeWarning: overflow encountered in exp\n",
      "  return 1/(1+np.exp(-X))\n",
      "c:\\Anaconda3\\lib\\site-packages\\statsmodels\\discrete\\discrete_model.py:1724: RuntimeWarning: divide by zero encountered in log\n",
      "  return np.sum(np.log(self.cdf(q*np.dot(X,params))))\n"
     ]
    }
   ],
   "source": [
    "outcome_var = \"Loan_Status\"\n",
    "#exclude baseline categorical variables\n",
    "predictor_var = ['ApplicantIncome', 'CoapplicantIncome', 'LoanAmount',\n",
    "       'Loan_Amount_Term', 'Credit_History', #'TotalIncome',\n",
    "       'IncomeByLoanAmount', 'AplIncomeByLoanAmount', #'EMI',\n",
    "       'Gender_Male', 'Married_No', 'Dependents_0', 'Dependents_1', 'Dependents_3+',\n",
    "       'Education_Not Graduate', 'Self_Employed_Yes',\n",
    "       'Property_Area_Semiurban', 'Property_Area_Urban']\n",
    "\n",
    "logit = sm.Logit(loan[outcome_var], loan[predictor_var])\n",
    "result = logit.fit_regularized()"
   ]
  },
  {
   "cell_type": "code",
   "execution_count": 19,
   "metadata": {},
   "outputs": [
    {
     "data": {
      "text/html": [
       "<table class=\"simpletable\">\n",
       "<tr>\n",
       "        <td>Model:</td>              <td>Logit</td>      <td>Pseudo R-squared:</td>    <td>0.268</td>  \n",
       "</tr>\n",
       "<tr>\n",
       "  <td>Dependent Variable:</td>    <td>Loan_Status</td>         <td>AIC:</td>         <td>590.4545</td> \n",
       "</tr>\n",
       "<tr>\n",
       "         <td>Date:</td>        <td>2019-03-11 10:48</td>       <td>BIC:</td>         <td>661.1744</td> \n",
       "</tr>\n",
       "<tr>\n",
       "   <td>No. Observations:</td>         <td>614</td>        <td>Log-Likelihood:</td>    <td>-279.23</td> \n",
       "</tr>\n",
       "<tr>\n",
       "       <td>Df Model:</td>             <td>15</td>            <td>LL-Null:</td>        <td>-381.45</td> \n",
       "</tr>\n",
       "<tr>\n",
       "     <td>Df Residuals:</td>           <td>598</td>         <td>LLR p-value:</td>    <td>2.6620e-35</td>\n",
       "</tr>\n",
       "<tr>\n",
       "      <td>Converged:</td>           <td>1.0000</td>           <td>Scale:</td>         <td>1.0000</td>  \n",
       "</tr>\n",
       "<tr>\n",
       "    <td>No. Iterations:</td>        <td>66.0000</td>             <td></td>               <td></td>     \n",
       "</tr>\n",
       "</table>\n",
       "<table class=\"simpletable\">\n",
       "<tr>\n",
       "             <td></td>              <th>Coef.</th>  <th>Std.Err.</th>    <th>z</th>     <th>P>|z|</th> <th>[0.025</th>  <th>0.975]</th> \n",
       "</tr>\n",
       "<tr>\n",
       "  <th>ApplicantIncome</th>         <td>0.0000</td>   <td>0.0000</td>  <td>0.6772</td>  <td>0.4983</td> <td>-0.0000</td> <td>0.0001</td> \n",
       "</tr>\n",
       "<tr>\n",
       "  <th>CoapplicantIncome</th>       <td>-0.0001</td>  <td>0.0001</td>  <td>-1.5155</td> <td>0.1296</td> <td>-0.0003</td> <td>0.0000</td> \n",
       "</tr>\n",
       "<tr>\n",
       "  <th>LoanAmount</th>              <td>-0.0022</td>  <td>0.0021</td>  <td>-1.0303</td> <td>0.3029</td> <td>-0.0064</td> <td>0.0020</td> \n",
       "</tr>\n",
       "<tr>\n",
       "  <th>Loan_Amount_Term</th>        <td>-0.0036</td>  <td>0.0014</td>  <td>-2.6889</td> <td>0.0072</td> <td>-0.0063</td> <td>-0.0010</td>\n",
       "</tr>\n",
       "<tr>\n",
       "  <th>Credit_History</th>          <td>3.7482</td>   <td>0.3783</td>  <td>9.9068</td>  <td>0.0000</td> <td>3.0067</td>  <td>4.4898</td> \n",
       "</tr>\n",
       "<tr>\n",
       "  <th>IncomeByLoanAmount</th>      <td>0.0103</td>   <td>0.0102</td>  <td>1.0082</td>  <td>0.3134</td> <td>-0.0097</td> <td>0.0304</td> \n",
       "</tr>\n",
       "<tr>\n",
       "  <th>AplIncomeByLoanAmount</th>   <td>-0.0144</td>  <td>0.0106</td>  <td>-1.3564</td> <td>0.1750</td> <td>-0.0351</td> <td>0.0064</td> \n",
       "</tr>\n",
       "<tr>\n",
       "  <th>Gender_Male</th>             <td>-0.2351</td>  <td>0.2890</td>  <td>-0.8136</td> <td>0.4159</td> <td>-0.8014</td> <td>0.3312</td> \n",
       "</tr>\n",
       "<tr>\n",
       "  <th>Married_No</th>              <td>-0.6078</td>  <td>0.2516</td>  <td>-2.4155</td> <td>0.0157</td> <td>-1.1010</td> <td>-0.1146</td>\n",
       "</tr>\n",
       "<tr>\n",
       "  <th>Dependents_0</th>            <td>-0.4663</td>  <td>0.3374</td>  <td>-1.3818</td> <td>0.1670</td> <td>-1.1276</td> <td>0.1951</td> \n",
       "</tr>\n",
       "<tr>\n",
       "  <th>Dependents_1</th>            <td>-0.9294</td>  <td>0.3810</td>  <td>-2.4392</td> <td>0.0147</td> <td>-1.6763</td> <td>-0.1826</td>\n",
       "</tr>\n",
       "<tr>\n",
       "  <th>Dependents_3+</th>           <td>-0.4559</td>  <td>0.4779</td>  <td>-0.9539</td> <td>0.3401</td> <td>-1.3926</td> <td>0.4808</td> \n",
       "</tr>\n",
       "<tr>\n",
       "  <th>Education_Not Graduate</th>  <td>-0.5038</td>  <td>0.2549</td>  <td>-1.9765</td> <td>0.0481</td> <td>-1.0034</td> <td>-0.0042</td>\n",
       "</tr>\n",
       "<tr>\n",
       "  <th>Self_Employed_Yes</th>       <td>-0.0073</td>  <td>0.3172</td>  <td>-0.0231</td> <td>0.9815</td> <td>-0.6290</td> <td>0.6143</td> \n",
       "</tr>\n",
       "<tr>\n",
       "  <th>Property_Area_Semiurban</th> <td>0.8283</td>   <td>0.2643</td>  <td>3.1346</td>  <td>0.0017</td> <td>0.3104</td>  <td>1.3463</td> \n",
       "</tr>\n",
       "<tr>\n",
       "  <th>Property_Area_Urban</th>     <td>0.1353</td>   <td>0.2555</td>  <td>0.5294</td>  <td>0.5966</td> <td>-0.3655</td> <td>0.6361</td> \n",
       "</tr>\n",
       "</table>"
      ],
      "text/plain": [
       "<class 'statsmodels.iolib.summary2.Summary'>\n",
       "\"\"\"\n",
       "                            Results: Logit\n",
       "=======================================================================\n",
       "Model:                Logit              Pseudo R-squared:   0.268     \n",
       "Dependent Variable:   Loan_Status        AIC:                590.4545  \n",
       "Date:                 2019-03-11 10:48   BIC:                661.1744  \n",
       "No. Observations:     614                Log-Likelihood:     -279.23   \n",
       "Df Model:             15                 LL-Null:            -381.45   \n",
       "Df Residuals:         598                LLR p-value:        2.6620e-35\n",
       "Converged:            1.0000             Scale:              1.0000    \n",
       "No. Iterations:       66.0000                                          \n",
       "-----------------------------------------------------------------------\n",
       "                         Coef.  Std.Err.    z    P>|z|   [0.025  0.975]\n",
       "-----------------------------------------------------------------------\n",
       "ApplicantIncome          0.0000   0.0000  0.6772 0.4983 -0.0000  0.0001\n",
       "CoapplicantIncome       -0.0001   0.0001 -1.5155 0.1296 -0.0003  0.0000\n",
       "LoanAmount              -0.0022   0.0021 -1.0303 0.3029 -0.0064  0.0020\n",
       "Loan_Amount_Term        -0.0036   0.0014 -2.6889 0.0072 -0.0063 -0.0010\n",
       "Credit_History           3.7482   0.3783  9.9068 0.0000  3.0067  4.4898\n",
       "IncomeByLoanAmount       0.0103   0.0102  1.0082 0.3134 -0.0097  0.0304\n",
       "AplIncomeByLoanAmount   -0.0144   0.0106 -1.3564 0.1750 -0.0351  0.0064\n",
       "Gender_Male             -0.2351   0.2890 -0.8136 0.4159 -0.8014  0.3312\n",
       "Married_No              -0.6078   0.2516 -2.4155 0.0157 -1.1010 -0.1146\n",
       "Dependents_0            -0.4663   0.3374 -1.3818 0.1670 -1.1276  0.1951\n",
       "Dependents_1            -0.9294   0.3810 -2.4392 0.0147 -1.6763 -0.1826\n",
       "Dependents_3+           -0.4559   0.4779 -0.9539 0.3401 -1.3926  0.4808\n",
       "Education_Not Graduate  -0.5038   0.2549 -1.9765 0.0481 -1.0034 -0.0042\n",
       "Self_Employed_Yes       -0.0073   0.3172 -0.0231 0.9815 -0.6290  0.6143\n",
       "Property_Area_Semiurban  0.8283   0.2643  3.1346 0.0017  0.3104  1.3463\n",
       "Property_Area_Urban      0.1353   0.2555  0.5294 0.5966 -0.3655  0.6361\n",
       "=======================================================================\n",
       "\n",
       "\"\"\""
      ]
     },
     "execution_count": 19,
     "metadata": {},
     "output_type": "execute_result"
    }
   ],
   "source": [
    "result.summary2()"
   ]
  },
  {
   "cell_type": "code",
   "execution_count": 20,
   "metadata": {},
   "outputs": [
    {
     "data": {
      "text/plain": [
       "array([[  83.,  109.],\n",
       "       [   9.,  413.]])"
      ]
     },
     "execution_count": 20,
     "metadata": {},
     "output_type": "execute_result"
    }
   ],
   "source": [
    "pt = result.pred_table()\n",
    "pt"
   ]
  },
  {
   "cell_type": "code",
   "execution_count": 21,
   "metadata": {},
   "outputs": [
    {
     "name": "stdout",
     "output_type": "stream",
     "text": [
      "Accuracy : 80.782%\n"
     ]
    }
   ],
   "source": [
    "print (\"Accuracy : %s\" % \"{0:.3%}\".format((pt[0,0]+pt[1,1])/pt.sum()))"
   ]
  },
  {
   "cell_type": "markdown",
   "metadata": {},
   "source": [
    "- Based on p-values we got 6 out of 16 variables as significant\n",
    "- Let's fit the model with only those variables"
   ]
  },
  {
   "cell_type": "code",
   "execution_count": 22,
   "metadata": {},
   "outputs": [],
   "source": [
    "predictor_var = ['Loan_Amount_Term', 'Credit_History', 'Property_Area_Semiurban',\n",
    "                 'Married_No', 'Dependents_1', 'Education_Not Graduate']"
   ]
  },
  {
   "cell_type": "code",
   "execution_count": 23,
   "metadata": {},
   "outputs": [
    {
     "name": "stderr",
     "output_type": "stream",
     "text": [
      "c:\\Anaconda3\\lib\\site-packages\\statsmodels\\discrete\\discrete_model.py:1674: RuntimeWarning: overflow encountered in exp\n",
      "  return 1/(1+np.exp(-X))\n",
      "c:\\Anaconda3\\lib\\site-packages\\statsmodels\\discrete\\discrete_model.py:1724: RuntimeWarning: divide by zero encountered in log\n",
      "  return np.sum(np.log(self.cdf(q*np.dot(X,params))))\n"
     ]
    },
    {
     "name": "stdout",
     "output_type": "stream",
     "text": [
      "Optimization terminated successfully.    (Exit mode 0)\n",
      "            Current function value: 0.46570925902958055\n",
      "            Iterations: 37\n",
      "            Function evaluations: 42\n",
      "            Gradient evaluations: 37\n"
     ]
    }
   ],
   "source": [
    "logit = sm.Logit(loan[outcome_var], loan[predictor_var])\n",
    "result = logit.fit_regularized()"
   ]
  },
  {
   "cell_type": "code",
   "execution_count": 24,
   "metadata": {},
   "outputs": [
    {
     "data": {
      "text/html": [
       "<table class=\"simpletable\">\n",
       "<tr>\n",
       "        <td>Model:</td>              <td>Logit</td>      <td>Pseudo R-squared:</td>    <td>0.250</td>  \n",
       "</tr>\n",
       "<tr>\n",
       "  <td>Dependent Variable:</td>    <td>Loan_Status</td>         <td>AIC:</td>         <td>583.8910</td> \n",
       "</tr>\n",
       "<tr>\n",
       "         <td>Date:</td>        <td>2019-03-11 10:48</td>       <td>BIC:</td>         <td>610.4109</td> \n",
       "</tr>\n",
       "<tr>\n",
       "   <td>No. Observations:</td>         <td>614</td>        <td>Log-Likelihood:</td>    <td>-285.95</td> \n",
       "</tr>\n",
       "<tr>\n",
       "       <td>Df Model:</td>              <td>5</td>            <td>LL-Null:</td>        <td>-381.45</td> \n",
       "</tr>\n",
       "<tr>\n",
       "     <td>Df Residuals:</td>           <td>608</td>         <td>LLR p-value:</td>    <td>2.3880e-39</td>\n",
       "</tr>\n",
       "<tr>\n",
       "      <td>Converged:</td>           <td>1.0000</td>           <td>Scale:</td>         <td>1.0000</td>  \n",
       "</tr>\n",
       "<tr>\n",
       "    <td>No. Iterations:</td>        <td>37.0000</td>             <td></td>               <td></td>     \n",
       "</tr>\n",
       "</table>\n",
       "<table class=\"simpletable\">\n",
       "<tr>\n",
       "             <td></td>              <th>Coef.</th>  <th>Std.Err.</th>    <th>z</th>     <th>P>|z|</th> <th>[0.025</th>  <th>0.975]</th> \n",
       "</tr>\n",
       "<tr>\n",
       "  <th>Loan_Amount_Term</th>        <td>-0.0057</td>  <td>0.0010</td>  <td>-5.8087</td> <td>0.0000</td> <td>-0.0076</td> <td>-0.0038</td>\n",
       "</tr>\n",
       "<tr>\n",
       "  <th>Credit_History</th>          <td>3.4846</td>   <td>0.3461</td>  <td>10.0672</td> <td>0.0000</td> <td>2.8062</td>  <td>4.1630</td> \n",
       "</tr>\n",
       "<tr>\n",
       "  <th>Property_Area_Semiurban</th> <td>0.7526</td>   <td>0.2286</td>  <td>3.2918</td>  <td>0.0010</td> <td>0.3045</td>  <td>1.2007</td> \n",
       "</tr>\n",
       "<tr>\n",
       "  <th>Married_No</th>              <td>-0.5791</td>  <td>0.2172</td>  <td>-2.6658</td> <td>0.0077</td> <td>-1.0049</td> <td>-0.1533</td>\n",
       "</tr>\n",
       "<tr>\n",
       "  <th>Dependents_1</th>            <td>-0.5738</td>  <td>0.2689</td>  <td>-2.1342</td> <td>0.0328</td> <td>-1.1008</td> <td>-0.0468</td>\n",
       "</tr>\n",
       "<tr>\n",
       "  <th>Education_Not Graduate</th>  <td>-0.4459</td>  <td>0.2425</td>  <td>-1.8388</td> <td>0.0659</td> <td>-0.9211</td> <td>0.0294</td> \n",
       "</tr>\n",
       "</table>"
      ],
      "text/plain": [
       "<class 'statsmodels.iolib.summary2.Summary'>\n",
       "\"\"\"\n",
       "                            Results: Logit\n",
       "=======================================================================\n",
       "Model:                Logit              Pseudo R-squared:   0.250     \n",
       "Dependent Variable:   Loan_Status        AIC:                583.8910  \n",
       "Date:                 2019-03-11 10:48   BIC:                610.4109  \n",
       "No. Observations:     614                Log-Likelihood:     -285.95   \n",
       "Df Model:             5                  LL-Null:            -381.45   \n",
       "Df Residuals:         608                LLR p-value:        2.3880e-39\n",
       "Converged:            1.0000             Scale:              1.0000    \n",
       "No. Iterations:       37.0000                                          \n",
       "-----------------------------------------------------------------------\n",
       "                         Coef.  Std.Err.    z    P>|z|   [0.025  0.975]\n",
       "-----------------------------------------------------------------------\n",
       "Loan_Amount_Term        -0.0057   0.0010 -5.8087 0.0000 -0.0076 -0.0038\n",
       "Credit_History           3.4846   0.3461 10.0672 0.0000  2.8062  4.1630\n",
       "Property_Area_Semiurban  0.7526   0.2286  3.2918 0.0010  0.3045  1.2007\n",
       "Married_No              -0.5791   0.2172 -2.6658 0.0077 -1.0049 -0.1533\n",
       "Dependents_1            -0.5738   0.2689 -2.1342 0.0328 -1.1008 -0.0468\n",
       "Education_Not Graduate  -0.4459   0.2425 -1.8388 0.0659 -0.9211  0.0294\n",
       "=======================================================================\n",
       "\n",
       "\"\"\""
      ]
     },
     "execution_count": 24,
     "metadata": {},
     "output_type": "execute_result"
    }
   ],
   "source": [
    "result.summary2()"
   ]
  },
  {
   "cell_type": "code",
   "execution_count": 25,
   "metadata": {},
   "outputs": [
    {
     "data": {
      "text/plain": [
       "array([[  83.,  109.],\n",
       "       [   7.,  415.]])"
      ]
     },
     "execution_count": 25,
     "metadata": {},
     "output_type": "execute_result"
    }
   ],
   "source": [
    "pt = result.pred_table()\n",
    "pt"
   ]
  },
  {
   "cell_type": "code",
   "execution_count": 26,
   "metadata": {},
   "outputs": [
    {
     "name": "stdout",
     "output_type": "stream",
     "text": [
      "Accuracy : 81.107%\n"
     ]
    }
   ],
   "source": [
    "print (\"Accuracy : %s\" % \"{0:.3%}\".format((pt[0,0]+pt[1,1])/pt.sum()))"
   ]
  },
  {
   "cell_type": "markdown",
   "metadata": {},
   "source": [
    "- Dropping insignificant variables slightly improved the accuracy."
   ]
  },
  {
   "cell_type": "markdown",
   "metadata": {},
   "source": [
    "### Interpretation\n",
    "#### - Having good credit history changes the log odds of loan approval by 3.4846\n",
    "#### - For every unit change in Loan Amount Term the log odds of loan approval decreases by 0.0057 units\n",
    "#### - Buying a property located in SemiUrban area as compared to a Rural area changes the log odds of loan approval by 0.7526 units"
   ]
  },
  {
   "cell_type": "markdown",
   "metadata": {},
   "source": [
    "### Model Evaluation\n",
    "#### A single fit is not sufficient and we need to Evaluate the model to ensure that it generalizes well. We need scikit learn api for cross validation.\n",
    "\n",
    "#### In classification, Accuracy does not tell the whole story particularly in unbalanced datasets - we need to look at the precision and recall of the classifier on each class to understand the how well the classfier is doing its job."
   ]
  },
  {
   "cell_type": "markdown",
   "metadata": {},
   "source": [
    "Let's fit Logistic Regression classfier from scikit-learn"
   ]
  },
  {
   "cell_type": "code",
   "execution_count": 27,
   "metadata": {},
   "outputs": [],
   "source": [
    "from sklearn.linear_model import LogisticRegression\n",
    "model_logistic = LogisticRegression(random_state=42)"
   ]
  },
  {
   "cell_type": "code",
   "execution_count": 28,
   "metadata": {},
   "outputs": [],
   "source": [
    "def classify_and_report_metrics(model, data, predictors, outcome):\n",
    "    X_train, X_test, y_train, y_test = train_test_split(data[predictors], data[outcome], random_state=42, stratify=loan[outcome_var])\n",
    "    model.fit(X_train, y_train)\n",
    "    y_pred = model.predict(X_test)\n",
    "    print('Accuracy on test set: %s' % '{0:.3%}'.format(model.score(X_test, y_test)))\n",
    "    cm = confusion_matrix(y_test, y_pred)\n",
    "    print(cm)\n",
    "    print(classification_report(y_test, y_pred))"
   ]
  },
  {
   "cell_type": "code",
   "execution_count": 29,
   "metadata": {},
   "outputs": [],
   "source": [
    "##adding all non-base levels of categorical variables that were found significant\n",
    "predictor_var += ['Dependents_0', 'Dependents_3+', 'Property_Area_Urban']\n",
    "predictor_var_logistic = predictor_var"
   ]
  },
  {
   "cell_type": "markdown",
   "metadata": {},
   "source": [
    "##### Split the data into train and test - fit the model on train dataset and test on the test set"
   ]
  },
  {
   "cell_type": "code",
   "execution_count": 30,
   "metadata": {
    "scrolled": true
   },
   "outputs": [
    {
     "name": "stdout",
     "output_type": "stream",
     "text": [
      "Accuracy on test set: 85.714%\n",
      "[[ 27  21]\n",
      " [  1 105]]\n",
      "             precision    recall  f1-score   support\n",
      "\n",
      "          0       0.96      0.56      0.71        48\n",
      "          1       0.83      0.99      0.91       106\n",
      "\n",
      "avg / total       0.87      0.86      0.84       154\n",
      "\n"
     ]
    }
   ],
   "source": [
    "classify_and_report_metrics(model_logistic, loan, predictor_var, outcome_var)"
   ]
  },
  {
   "cell_type": "markdown",
   "metadata": {},
   "source": [
    "##### Now perform a Five fold cross validation"
   ]
  },
  {
   "cell_type": "code",
   "execution_count": 31,
   "metadata": {},
   "outputs": [],
   "source": [
    "def fit_and_validate(model, data, predictors, outcome):\n",
    "    #Fit the model:\n",
    "    model.fit(data[predictors],data[outcome])\n",
    "    #Make predictions on training set:\n",
    "    predictions = model.predict(data[predictors])\n",
    "    #Print accuracy\n",
    "    accuracy = metrics.accuracy_score(predictions,data[outcome])\n",
    "    print (\"Accuracy : %s\" % \"{0:.3%}\".format(accuracy))\n",
    "\n",
    "    cm = confusion_matrix(data[outcome], predictions)\n",
    "    print(cm)\n",
    "    print(classification_report(data[outcome], predictions))    \n",
    "    \n",
    "    #Perform k-fold cross-validation with 5 folds\n",
    "    kf = KFold(data.shape[0], n_folds=5)\n",
    "    error = []\n",
    "    for train, test in kf:\n",
    "        # Filter training data\n",
    "        train_predictors = (data[predictors].iloc[train,:])\n",
    "\n",
    "        # The target we're using to train the algorithm.\n",
    "        train_target = data[outcome].iloc[train]\n",
    "\n",
    "        # Training the algorithm using the predictors and target.\n",
    "        model.fit(train_predictors, train_target)\n",
    "\n",
    "        #Record error from each cross-validation run\n",
    "        error.append(model.score(data[predictors].iloc[test,:], data[outcome].iloc[test]))\n",
    "    print(\"Cross-Validation Score : %s\" % \"{0:.3%}\".format(np.mean(error)))\n",
    "    if (isinstance(model, (RandomForestClassifier))):\n",
    "            #Create a series with feature importances:\n",
    "            featimp = pd.Series(model.feature_importances_, index=predictors).sort_values(ascending=False)\n",
    "            print (featimp)\n",
    "            if (isinstance(model, RandomForestClassifier)):\n",
    "                if model.get_params()['oob_score']:\n",
    "                    print('OOB Score %f' % (1 - model.oob_score_))\n",
    "                else:\n",
    "                    print('OOB Score False')"
   ]
  },
  {
   "cell_type": "code",
   "execution_count": 32,
   "metadata": {},
   "outputs": [
    {
     "name": "stdout",
     "output_type": "stream",
     "text": [
      "Accuracy : 80.945%\n",
      "[[ 82 110]\n",
      " [  7 415]]\n",
      "             precision    recall  f1-score   support\n",
      "\n",
      "          0       0.92      0.43      0.58       192\n",
      "          1       0.79      0.98      0.88       422\n",
      "\n",
      "avg / total       0.83      0.81      0.78       614\n",
      "\n",
      "Cross-Validation Score : 81.109%\n"
     ]
    }
   ],
   "source": [
    "fit_and_validate(model_logistic, loan, predictor_var, outcome_var)"
   ]
  },
  {
   "cell_type": "markdown",
   "metadata": {},
   "source": [
    "### Let's see if we can improve the accuracy. We will use Random Forest classifier as it,\n",
    "\n",
    "#### - Works well for classification\n",
    "#### - Robust to outliers in the data\n",
    "#### - Relatively easy to tune\n",
    "#### - Provides out of bag error rate indicative of the unbiased nature of the fit\n",
    "\n",
    "#### For fitting a RandomForest model, we will include,\n",
    "- Variables identified as significant by Linear Model\n",
    "- Two additonal Features created earlier\n",
    "- ApplicantIncome and LoanAmount which has many outliers"
   ]
  },
  {
   "cell_type": "code",
   "execution_count": 33,
   "metadata": {},
   "outputs": [],
   "source": [
    "predictor_var = [\n",
    " 'Credit_History', 'IncomeByLoanAmount', 'AplIncomeByLoanAmount',\n",
    "    'LoanAmount', 'Loan_Amount_Term',\n",
    "    'Property_Area_Semiurban', 'ApplicantIncome','Married_No','Dependents_1',\n",
    "    'Education_Not Graduate'\n",
    "]"
   ]
  },
  {
   "cell_type": "markdown",
   "metadata": {},
   "source": [
    "- Fit the model using the tuned parameters"
   ]
  },
  {
   "cell_type": "code",
   "execution_count": 34,
   "metadata": {},
   "outputs": [],
   "source": [
    "model_rf = RandomForestClassifier(random_state=42, n_estimators=200, bootstrap= True, oob_score=True)"
   ]
  },
  {
   "cell_type": "markdown",
   "metadata": {},
   "source": [
    "- Split the data, train the model and verify on the test set"
   ]
  },
  {
   "cell_type": "code",
   "execution_count": 35,
   "metadata": {},
   "outputs": [
    {
     "name": "stdout",
     "output_type": "stream",
     "text": [
      "Accuracy on test set: 85.065%\n",
      "[[33 15]\n",
      " [ 8 98]]\n",
      "             precision    recall  f1-score   support\n",
      "\n",
      "          0       0.80      0.69      0.74        48\n",
      "          1       0.87      0.92      0.89       106\n",
      "\n",
      "avg / total       0.85      0.85      0.85       154\n",
      "\n"
     ]
    }
   ],
   "source": [
    "classify_and_report_metrics(model_rf, loan, predictor_var, outcome_var)"
   ]
  },
  {
   "cell_type": "markdown",
   "metadata": {},
   "source": [
    "- Perform 5-fold cross validation"
   ]
  },
  {
   "cell_type": "code",
   "execution_count": 36,
   "metadata": {},
   "outputs": [
    {
     "name": "stdout",
     "output_type": "stream",
     "text": [
      "Accuracy : 100.000%\n",
      "[[192   0]\n",
      " [  0 422]]\n",
      "             precision    recall  f1-score   support\n",
      "\n",
      "          0       1.00      1.00      1.00       192\n",
      "          1       1.00      1.00      1.00       422\n",
      "\n",
      "avg / total       1.00      1.00      1.00       614\n",
      "\n",
      "Cross-Validation Score : 79.799%\n",
      "Credit_History             0.251341\n",
      "IncomeByLoanAmount         0.185544\n",
      "AplIncomeByLoanAmount      0.156024\n",
      "ApplicantIncome            0.144308\n",
      "LoanAmount                 0.138581\n",
      "Loan_Amount_Term           0.034780\n",
      "Property_Area_Semiurban    0.027842\n",
      "Married_No                 0.022922\n",
      "Dependents_1               0.020069\n",
      "Education_Not Graduate     0.018589\n",
      "dtype: float64\n",
      "OOB Score 0.197154\n"
     ]
    }
   ],
   "source": [
    "fit_and_validate(model_rf, loan, predictor_var, outcome_var)"
   ]
  },
  {
   "cell_type": "markdown",
   "metadata": {},
   "source": [
    "#### Cross validation score is slightly lower than Logistic Regression. Let's use the top 6 important features and fit again"
   ]
  },
  {
   "cell_type": "code",
   "execution_count": 37,
   "metadata": {},
   "outputs": [],
   "source": [
    "predictor_var = [\n",
    " 'Credit_History', 'IncomeByLoanAmount', 'AplIncomeByLoanAmount',\n",
    "    'LoanAmount','Property_Area_Semiurban', 'ApplicantIncome'\n",
    "]\n",
    "predictor_var_rf = predictor_var"
   ]
  },
  {
   "cell_type": "markdown",
   "metadata": {},
   "source": [
    "#### Let's find the best hyperparameters for the RandomForestClassifier"
   ]
  },
  {
   "cell_type": "code",
   "execution_count": 38,
   "metadata": {},
   "outputs": [],
   "source": [
    "# import pprint as pp\n",
    "# from sklearn.model_selection import RandomizedSearchCV\n",
    "# # Number of trees in random forest\n",
    "# n_estimators = [int(x) for x in np.linspace(start = 200, stop = 2000, num = 10)]\n",
    "# # Number of features to consider at every split\n",
    "# max_features = ['auto', 'sqrt']\n",
    "# # Maximum number of levels in tree\n",
    "# max_depth = [int(x) for x in np.linspace(10, 110, num = 11)]\n",
    "# max_depth.append(None)\n",
    "# # Minimum number of samples required to split a node\n",
    "# min_samples_split = [2, 5, 10]\n",
    "# # Minimum number of samples required at each leaf node\n",
    "# min_samples_leaf = [1, 2, 4]\n",
    "# # Method of selecting samples for training each tree\n",
    "# bootstrap = [True, False]\n",
    "# # Create the random grid\n",
    "# random_grid = {'n_estimators': n_estimators,\n",
    "#                'max_features': max_features,\n",
    "#                'max_depth': max_depth,\n",
    "#                'min_samples_split': min_samples_split,\n",
    "#                'min_samples_leaf': min_samples_leaf,\n",
    "#                'bootstrap': bootstrap}\n",
    "# pp.pprint(random_grid)\n",
    "# # Use the random grid to search for best hyperparameters\n",
    "# # First create the base model to tune\n",
    "# rf = RandomForestClassifier()\n",
    "# # Random search of parameters, using 3 fold cross validation,\n",
    "# # search across 100 different combinations, and use all available cores\n",
    "# rf_random = RandomizedSearchCV(estimator = rf, param_distributions = random_grid, n_iter = 100, cv = 3, verbose=2, random_state=42, n_jobs = -1)\n",
    "# # Fit the random search model\n",
    "# rf_random.fit(loan[predictor_var], loan[outcome_var])\n",
    "# rf_random.best_params_"
   ]
  },
  {
   "cell_type": "markdown",
   "metadata": {},
   "source": [
    "#### Create the model with tuned parameters"
   ]
  },
  {
   "cell_type": "code",
   "execution_count": 39,
   "metadata": {},
   "outputs": [],
   "source": [
    "model_rf = RandomForestClassifier(random_state=42, n_estimators= 800, min_samples_split= 10, \n",
    "                                  min_samples_leaf= 4, max_features= 'sqrt', max_depth= 50, bootstrap= True, oob_score=True)\n"
   ]
  },
  {
   "cell_type": "code",
   "execution_count": 40,
   "metadata": {},
   "outputs": [
    {
     "name": "stdout",
     "output_type": "stream",
     "text": [
      "Accuracy : 85.831%\n",
      "[[116  76]\n",
      " [ 11 411]]\n",
      "             precision    recall  f1-score   support\n",
      "\n",
      "          0       0.91      0.60      0.73       192\n",
      "          1       0.84      0.97      0.90       422\n",
      "\n",
      "avg / total       0.87      0.86      0.85       614\n",
      "\n",
      "Cross-Validation Score : 81.267%\n",
      "Credit_History             0.403205\n",
      "IncomeByLoanAmount         0.175681\n",
      "AplIncomeByLoanAmount      0.145050\n",
      "LoanAmount                 0.120771\n",
      "ApplicantIncome            0.118644\n",
      "Property_Area_Semiurban    0.036650\n",
      "dtype: float64\n",
      "OOB Score 0.186992\n"
     ]
    }
   ],
   "source": [
    "fit_and_validate(model_rf, loan, predictor_var, outcome_var)"
   ]
  },
  {
   "cell_type": "code",
   "execution_count": null,
   "metadata": {},
   "outputs": [],
   "source": []
  },
  {
   "cell_type": "code",
   "execution_count": null,
   "metadata": {},
   "outputs": [],
   "source": []
  },
  {
   "cell_type": "code",
   "execution_count": null,
   "metadata": {},
   "outputs": [],
   "source": []
  },
  {
   "cell_type": "code",
   "execution_count": 41,
   "metadata": {},
   "outputs": [
    {
     "data": {
      "image/png": "[encoded data removed]",
      "text/plain": [
       "<Figure size 432x288 with 1 Axes>"
      ]
     },
     "metadata": {},
     "output_type": "display_data"
    }
   ],
   "source": [
    "from sklearn.metrics import roc_auc_score\n",
    "from sklearn.metrics import roc_curve\n",
    "# logit_roc_auc = roc_auc_score(y_test, logistic_model.predict(X_test))\n",
    "# fpr, tpr, thresholds = roc_curve(y_test, logistic_model.predict_proba(X_test)[:,1])\n",
    "X_train, X_test, y_train, y_test = train_test_split(loan[predictor_var_logistic], loan[outcome_var], random_state=42, stratify=loan[outcome_var])\n",
    "model_logistic.fit(X_train, y_train)\n",
    "logit_roc_auc = roc_auc_score(y_test, model_logistic.predict(X_test))\n",
    "fpr, tpr, thresholds = roc_curve(y_test, model_logistic.predict_proba(X_test)[:,1])\n",
    "plt.figure()\n",
    "plt.plot(fpr, tpr, label='Logistic Regression (area = %0.2f)' % logit_roc_auc)\n",
    "plt.plot([0, 1], [0, 1],'r--')\n",
    "\n",
    "X_train, X_test, y_train, y_test = train_test_split(loan[predictor_var_rf], loan[outcome_var], random_state=42, stratify=loan[outcome_var])\n",
    "model_rf.fit(X_train, y_train)\n",
    "logit_roc_auc = roc_auc_score(y_test, model_rf.predict(X_test))\n",
    "fpr, tpr, thresholds = roc_curve(y_test, model_rf.predict_proba(X_test)[:,1])\n",
    "# plt.figure()\n",
    "plt.plot(fpr, tpr, label='Random Forest (area = %0.2f)' % logit_roc_auc)\n",
    "plt.plot([0, 1], [0, 1],'r--')\n",
    "\n",
    "plt.xlim([0.0, 1.0])\n",
    "plt.ylim([0.0, 1.05])\n",
    "plt.xlabel('False Positive Rate')\n",
    "plt.ylabel('True Positive Rate')\n",
    "plt.title('Receiver operating characteristic')\n",
    "plt.legend(loc=\"lower right\")\n",
    "plt.savefig('Log_ROC')\n",
    "plt.show()"
   ]
  },
  {
   "cell_type": "code",
   "execution_count": null,
   "metadata": {},
   "outputs": [],
   "source": []
  },
  {
   "cell_type": "code",
   "execution_count": null,
   "metadata": {},
   "outputs": [],
   "source": []
  },
  {
   "cell_type": "code",
   "execution_count": null,
   "metadata": {},
   "outputs": [],
   "source": []
  },
  {
   "cell_type": "code",
   "execution_count": null,
   "metadata": {},
   "outputs": [],
   "source": []
  }
 ],
 "metadata": {
  "kernelspec": {
   "display_name": "Python 3",
   "language": "python",
   "name": "python3"
  },
  "language_info": {
   "codemirror_mode": {
    "name": "ipython",
    "version": 3
   },
   "file_extension": ".py",
   "mimetype": "text/x-python",
   "name": "python",
   "nbconvert_exporter": "python",
   "pygments_lexer": "ipython3",
   "version": "3.7.0"
  }
 },
 "nbformat": 4,
 "nbformat_minor": 2
}
